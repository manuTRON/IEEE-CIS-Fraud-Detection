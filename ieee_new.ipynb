{
 "cells": [
  {
   "cell_type": "markdown",
   "metadata": {
    "colab_type": "text",
    "id": "eq0w6c_v9r7P"
   },
   "source": [
    "# IEEE-CIS Fraud Detection\n",
    "\n"
   ]
  },
  {
   "cell_type": "markdown",
   "metadata": {
    "colab_type": "text",
    "id": "Zgl_OQdUJlyi"
   },
   "source": [
    "## 1. Business Problem \n",
    "### 1.1. Description \n",
    "\n",
    "**Source:** https://www.kaggle.com/c/ieee-fraud-detection/overview\n",
    "\n",
    "---\n",
    "\n",
    "Imagine standing at the check-out counter at the grocery store with a long line behind you and the cashier not-so-quietly announces that your card has been declined. In this moment, you probably aren’t thinking about the data science that determined your fate.\n",
    "\n",
    "While perhaps cumbersome (and often embarrassing) in the moment, this fraud prevention system is actually saving consumers millions of dollars per year. Researchers from the IEEE Computational Intelligence Society (IEEE-CIS) want to improve this figure, while also improving the customer experience. With higher accuracy fraud detection, you can get on with your chips without the hassle.\n",
    "\n",
    "\n",
    "\n",
    "\n",
    "> Credits: Kaggle\n",
    "\n",
    "#### Problem Statement\n",
    "* Make e-commerce safer by detecting fraud detection in real time and accurately.\n",
    "\n",
    "### 1.2. Sources/Useful Links\n",
    "* https://www.kaggle.com/c/ieee-fraud-detection/data\n",
    "* https://www.kaggle.com/c/ieee-fraud-detection/discussion/111284#latest-670375\n",
    "* https://www.kaggle.com/cdeotte/xgb-fraud-with-magic-0-9600/output\n",
    "* https://www.kaggle.com/c/ieee-fraud-detection/discussion/101203#latest-671062\n",
    "* https://www.kaggle.com/c/ieee-fraud-detection/discussion/99979#latest-648115\n",
    "*https://www.kaggle.com/c/ieee-fraud-detection/discussion/111308#latest-664620\n",
    "\n",
    "### 1.3 Real world/Business Objectives and constraints \n",
    "* Precisely detect a fraud transaction.\n"
   ]
  },
  {
   "cell_type": "markdown",
   "metadata": {
    "colab_type": "text",
    "id": "DWBQtFR5Jlyt"
   },
   "source": [
    "## 2. Machine Learning Probelm \n",
    "### 2.1. Data Information\n",
    "\n",
    "**Source**: https://www.kaggle.com/c/ieee-fraud-detection/data\n",
    "\n",
    "---\n",
    "\n",
    "The data is broken into two files identity and transaction, which are joined by TransactionID. Not all transactions have corresponding identity information.\n",
    "\n",
    "### Categorical Features - Transaction\n",
    "* ProductCD\n",
    "* card1 - card6\n",
    "* addr1, addr2\n",
    "* P_emaildomain\n",
    "* R_emaildomain\n",
    "* M1 - M9\n",
    "\n",
    "### Categorical Features - Identity\n",
    "* DeviceType\n",
    "* DeviceInfo\n",
    "* id_12 - id_38\n",
    "\n",
    "The TransactionDT feature is a timedelta from a given reference datetime (not an actual timestamp).\n",
    "\n",
    "### 2.2. Mapping the real world problem to an ML problem\n",
    "* It is a binary classification problem, for a transaction we need to predict if it is fraud or not.\n",
    "\n",
    "### 2.2.2 Performance Metric\n",
    "\n",
    "**Source:** https://www.kaggle.com/c/ieee-fraud-detection/overview/evaluation\n",
    "\n",
    "**Metric:**\n",
    "\n",
    "* area under the ROC curve\n",
    "\n",
    "### 2.3 Train and Test Construction\n",
    "\n",
    "We build train and test by time stamp based splitting in the ratio of 70:30 or 80:20 whatever we choose as we have sufficient points to work with."
   ]
  },
  {
   "cell_type": "code",
   "execution_count": 0,
   "metadata": {
    "colab": {},
    "colab_type": "code",
    "id": "kcs6LA4FJlyl"
   },
   "outputs": [],
   "source": [
    "#importing some useful libraries\n",
    "import time\n",
    "import matplotlib\n",
    "import matplotlib.pylab as plt\n",
    "import seaborn as sns\n",
    "import datetime\n",
    "import math\n",
    "import pickle\n",
    "from sklearn.metrics import roc_curve\n",
    "import numpy as np, pandas as pd, os, gc\n",
    "from sklearn.model_selection import GroupKFold\n",
    "from sklearn.metrics import confusion_matrix,roc_auc_score,roc_curve,auc\n",
    "from sklearn.linear_model import LogisticRegression\n",
    "from sklearn.model_selection import GridSearchCV,RandomizedSearchCV\n",
    "import xgboost as xgb\n",
    "\n",
    "import warnings\n",
    "warnings.filterwarnings('ignore')"
   ]
  },
  {
   "cell_type": "code",
   "execution_count": 90,
   "metadata": {
    "colab": {
     "base_uri": "https://localhost:8080/",
     "height": 54
    },
    "colab_type": "code",
    "executionInfo": {
     "elapsed": 1652,
     "status": "ok",
     "timestamp": 1574068473673,
     "user": {
      "displayName": "yAstar",
      "photoUrl": "https://lh3.googleusercontent.com/a-/AAuE7mAQMTWITMWULQCIbgtY3LQLmQLfQcX0QkIpGCWV=s64",
      "userId": "05115090728237574619"
     },
     "user_tz": -330
    },
    "id": "KFuYDFVfKA3U",
    "outputId": "bc3f3b06-f256-453c-e6a3-c7fd1e398a49"
   },
   "outputs": [
    {
     "name": "stdout",
     "output_type": "stream",
     "text": [
      "Drive already mounted at /content/drive/; to attempt to forcibly remount, call drive.mount(\"/content/drive/\", force_remount=True).\n"
     ]
    }
   ],
   "source": [
    "from google.colab import drive\n",
    "drive.mount('/content/drive/')"
   ]
  },
  {
   "cell_type": "markdown",
   "metadata": {
    "colab_type": "text",
    "id": "qsAnhk4WIDOo"
   },
   "source": [
    "### Load Data"
   ]
  },
  {
   "cell_type": "code",
   "execution_count": 91,
   "metadata": {
    "colab": {
     "base_uri": "https://localhost:8080/",
     "height": 34
    },
    "colab_type": "code",
    "executionInfo": {
     "elapsed": 21712,
     "status": "ok",
     "timestamp": 1574068551474,
     "user": {
      "displayName": "yAstar",
      "photoUrl": "https://lh3.googleusercontent.com/a-/AAuE7mAQMTWITMWULQCIbgtY3LQLmQLfQcX0QkIpGCWV=s64",
      "userId": "05115090728237574619"
     },
     "user_tz": -330
    },
    "id": "DvOlDz3pQz_a",
    "outputId": "8e8f7979-e5f5-4ad5-908f-7a2da9e4a30c"
   },
   "outputs": [
    {
     "name": "stdout",
     "output_type": "stream",
     "text": [
      "train set shape: (590540, 434)\n"
     ]
    }
   ],
   "source": [
    "train_transaction = pd.read_csv('/content/drive/My Drive/IEEE_F/train_transaction.csv')\n",
    "train_identity = pd.read_csv('/content/drive/My Drive/IEEE_F/train_identity.csv')\n",
    "\n",
    "df = pd.merge(train_transaction, train_identity, on='TransactionID', how='left')\n",
    "del train_transaction, train_identity\n",
    "gc.collect()\n",
    "\n",
    "cat_ft = ['ProductCD','addr1','addr2','P_emaildomain','R_emaildomain','DeviceType','DeviceInfo']+['card'+str(x) for x in range(1,7)] + ['M'+str(x) for x in range(1,10)] + ['id_'+str(x) for x in range(12,39)]\n",
    "\n",
    "print('train set shape:', df.shape)"
   ]
  },
  {
   "cell_type": "code",
   "execution_count": 92,
   "metadata": {
    "colab": {
     "base_uri": "https://localhost:8080/",
     "height": 278
    },
    "colab_type": "code",
    "executionInfo": {
     "elapsed": 1463,
     "status": "ok",
     "timestamp": 1574068552956,
     "user": {
      "displayName": "yAstar",
      "photoUrl": "https://lh3.googleusercontent.com/a-/AAuE7mAQMTWITMWULQCIbgtY3LQLmQLfQcX0QkIpGCWV=s64",
      "userId": "05115090728237574619"
     },
     "user_tz": -330
    },
    "id": "xWsOLMerFWJ0",
    "outputId": "c08cd927-8059-4905-bf42-d622ef5818b4"
   },
   "outputs": [
    {
     "data": {
      "text/html": [
       "<div>\n",
       "<style scoped>\n",
       "    .dataframe tbody tr th:only-of-type {\n",
       "        vertical-align: middle;\n",
       "    }\n",
       "\n",
       "    .dataframe tbody tr th {\n",
       "        vertical-align: top;\n",
       "    }\n",
       "\n",
       "    .dataframe thead th {\n",
       "        text-align: right;\n",
       "    }\n",
       "</style>\n",
       "<table border=\"1\" class=\"dataframe\">\n",
       "  <thead>\n",
       "    <tr style=\"text-align: right;\">\n",
       "      <th></th>\n",
       "      <th>TransactionID</th>\n",
       "      <th>isFraud</th>\n",
       "      <th>TransactionDT</th>\n",
       "      <th>TransactionAmt</th>\n",
       "      <th>ProductCD</th>\n",
       "      <th>card1</th>\n",
       "      <th>card2</th>\n",
       "      <th>card3</th>\n",
       "      <th>card4</th>\n",
       "      <th>card5</th>\n",
       "      <th>card6</th>\n",
       "      <th>addr1</th>\n",
       "      <th>addr2</th>\n",
       "      <th>dist1</th>\n",
       "      <th>dist2</th>\n",
       "      <th>P_emaildomain</th>\n",
       "      <th>R_emaildomain</th>\n",
       "      <th>C1</th>\n",
       "      <th>C2</th>\n",
       "      <th>C3</th>\n",
       "      <th>C4</th>\n",
       "      <th>C5</th>\n",
       "      <th>C6</th>\n",
       "      <th>C7</th>\n",
       "      <th>C8</th>\n",
       "      <th>C9</th>\n",
       "      <th>C10</th>\n",
       "      <th>C11</th>\n",
       "      <th>C12</th>\n",
       "      <th>C13</th>\n",
       "      <th>C14</th>\n",
       "      <th>D1</th>\n",
       "      <th>D2</th>\n",
       "      <th>D3</th>\n",
       "      <th>D4</th>\n",
       "      <th>D5</th>\n",
       "      <th>D6</th>\n",
       "      <th>D7</th>\n",
       "      <th>D8</th>\n",
       "      <th>D9</th>\n",
       "      <th>...</th>\n",
       "      <th>id_01</th>\n",
       "      <th>id_02</th>\n",
       "      <th>id_03</th>\n",
       "      <th>id_04</th>\n",
       "      <th>id_05</th>\n",
       "      <th>id_06</th>\n",
       "      <th>id_07</th>\n",
       "      <th>id_08</th>\n",
       "      <th>id_09</th>\n",
       "      <th>id_10</th>\n",
       "      <th>id_11</th>\n",
       "      <th>id_12</th>\n",
       "      <th>id_13</th>\n",
       "      <th>id_14</th>\n",
       "      <th>id_15</th>\n",
       "      <th>id_16</th>\n",
       "      <th>id_17</th>\n",
       "      <th>id_18</th>\n",
       "      <th>id_19</th>\n",
       "      <th>id_20</th>\n",
       "      <th>id_21</th>\n",
       "      <th>id_22</th>\n",
       "      <th>id_23</th>\n",
       "      <th>id_24</th>\n",
       "      <th>id_25</th>\n",
       "      <th>id_26</th>\n",
       "      <th>id_27</th>\n",
       "      <th>id_28</th>\n",
       "      <th>id_29</th>\n",
       "      <th>id_30</th>\n",
       "      <th>id_31</th>\n",
       "      <th>id_32</th>\n",
       "      <th>id_33</th>\n",
       "      <th>id_34</th>\n",
       "      <th>id_35</th>\n",
       "      <th>id_36</th>\n",
       "      <th>id_37</th>\n",
       "      <th>id_38</th>\n",
       "      <th>DeviceType</th>\n",
       "      <th>DeviceInfo</th>\n",
       "    </tr>\n",
       "  </thead>\n",
       "  <tbody>\n",
       "    <tr>\n",
       "      <th>0</th>\n",
       "      <td>2987000</td>\n",
       "      <td>0</td>\n",
       "      <td>86400</td>\n",
       "      <td>68.5</td>\n",
       "      <td>W</td>\n",
       "      <td>13926</td>\n",
       "      <td>NaN</td>\n",
       "      <td>150.0</td>\n",
       "      <td>discover</td>\n",
       "      <td>142.0</td>\n",
       "      <td>credit</td>\n",
       "      <td>315.0</td>\n",
       "      <td>87.0</td>\n",
       "      <td>19.0</td>\n",
       "      <td>NaN</td>\n",
       "      <td>NaN</td>\n",
       "      <td>NaN</td>\n",
       "      <td>1.0</td>\n",
       "      <td>1.0</td>\n",
       "      <td>0.0</td>\n",
       "      <td>0.0</td>\n",
       "      <td>0.0</td>\n",
       "      <td>1.0</td>\n",
       "      <td>0.0</td>\n",
       "      <td>0.0</td>\n",
       "      <td>1.0</td>\n",
       "      <td>0.0</td>\n",
       "      <td>2.0</td>\n",
       "      <td>0.0</td>\n",
       "      <td>1.0</td>\n",
       "      <td>1.0</td>\n",
       "      <td>14.0</td>\n",
       "      <td>NaN</td>\n",
       "      <td>13.0</td>\n",
       "      <td>NaN</td>\n",
       "      <td>NaN</td>\n",
       "      <td>NaN</td>\n",
       "      <td>NaN</td>\n",
       "      <td>NaN</td>\n",
       "      <td>NaN</td>\n",
       "      <td>...</td>\n",
       "      <td>NaN</td>\n",
       "      <td>NaN</td>\n",
       "      <td>NaN</td>\n",
       "      <td>NaN</td>\n",
       "      <td>NaN</td>\n",
       "      <td>NaN</td>\n",
       "      <td>NaN</td>\n",
       "      <td>NaN</td>\n",
       "      <td>NaN</td>\n",
       "      <td>NaN</td>\n",
       "      <td>NaN</td>\n",
       "      <td>NaN</td>\n",
       "      <td>NaN</td>\n",
       "      <td>NaN</td>\n",
       "      <td>NaN</td>\n",
       "      <td>NaN</td>\n",
       "      <td>NaN</td>\n",
       "      <td>NaN</td>\n",
       "      <td>NaN</td>\n",
       "      <td>NaN</td>\n",
       "      <td>NaN</td>\n",
       "      <td>NaN</td>\n",
       "      <td>NaN</td>\n",
       "      <td>NaN</td>\n",
       "      <td>NaN</td>\n",
       "      <td>NaN</td>\n",
       "      <td>NaN</td>\n",
       "      <td>NaN</td>\n",
       "      <td>NaN</td>\n",
       "      <td>NaN</td>\n",
       "      <td>NaN</td>\n",
       "      <td>NaN</td>\n",
       "      <td>NaN</td>\n",
       "      <td>NaN</td>\n",
       "      <td>NaN</td>\n",
       "      <td>NaN</td>\n",
       "      <td>NaN</td>\n",
       "      <td>NaN</td>\n",
       "      <td>NaN</td>\n",
       "      <td>NaN</td>\n",
       "    </tr>\n",
       "    <tr>\n",
       "      <th>1</th>\n",
       "      <td>2987001</td>\n",
       "      <td>0</td>\n",
       "      <td>86401</td>\n",
       "      <td>29.0</td>\n",
       "      <td>W</td>\n",
       "      <td>2755</td>\n",
       "      <td>404.0</td>\n",
       "      <td>150.0</td>\n",
       "      <td>mastercard</td>\n",
       "      <td>102.0</td>\n",
       "      <td>credit</td>\n",
       "      <td>325.0</td>\n",
       "      <td>87.0</td>\n",
       "      <td>NaN</td>\n",
       "      <td>NaN</td>\n",
       "      <td>gmail.com</td>\n",
       "      <td>NaN</td>\n",
       "      <td>1.0</td>\n",
       "      <td>1.0</td>\n",
       "      <td>0.0</td>\n",
       "      <td>0.0</td>\n",
       "      <td>0.0</td>\n",
       "      <td>1.0</td>\n",
       "      <td>0.0</td>\n",
       "      <td>0.0</td>\n",
       "      <td>0.0</td>\n",
       "      <td>0.0</td>\n",
       "      <td>1.0</td>\n",
       "      <td>0.0</td>\n",
       "      <td>1.0</td>\n",
       "      <td>1.0</td>\n",
       "      <td>0.0</td>\n",
       "      <td>NaN</td>\n",
       "      <td>NaN</td>\n",
       "      <td>0.0</td>\n",
       "      <td>NaN</td>\n",
       "      <td>NaN</td>\n",
       "      <td>NaN</td>\n",
       "      <td>NaN</td>\n",
       "      <td>NaN</td>\n",
       "      <td>...</td>\n",
       "      <td>NaN</td>\n",
       "      <td>NaN</td>\n",
       "      <td>NaN</td>\n",
       "      <td>NaN</td>\n",
       "      <td>NaN</td>\n",
       "      <td>NaN</td>\n",
       "      <td>NaN</td>\n",
       "      <td>NaN</td>\n",
       "      <td>NaN</td>\n",
       "      <td>NaN</td>\n",
       "      <td>NaN</td>\n",
       "      <td>NaN</td>\n",
       "      <td>NaN</td>\n",
       "      <td>NaN</td>\n",
       "      <td>NaN</td>\n",
       "      <td>NaN</td>\n",
       "      <td>NaN</td>\n",
       "      <td>NaN</td>\n",
       "      <td>NaN</td>\n",
       "      <td>NaN</td>\n",
       "      <td>NaN</td>\n",
       "      <td>NaN</td>\n",
       "      <td>NaN</td>\n",
       "      <td>NaN</td>\n",
       "      <td>NaN</td>\n",
       "      <td>NaN</td>\n",
       "      <td>NaN</td>\n",
       "      <td>NaN</td>\n",
       "      <td>NaN</td>\n",
       "      <td>NaN</td>\n",
       "      <td>NaN</td>\n",
       "      <td>NaN</td>\n",
       "      <td>NaN</td>\n",
       "      <td>NaN</td>\n",
       "      <td>NaN</td>\n",
       "      <td>NaN</td>\n",
       "      <td>NaN</td>\n",
       "      <td>NaN</td>\n",
       "      <td>NaN</td>\n",
       "      <td>NaN</td>\n",
       "    </tr>\n",
       "    <tr>\n",
       "      <th>2</th>\n",
       "      <td>2987002</td>\n",
       "      <td>0</td>\n",
       "      <td>86469</td>\n",
       "      <td>59.0</td>\n",
       "      <td>W</td>\n",
       "      <td>4663</td>\n",
       "      <td>490.0</td>\n",
       "      <td>150.0</td>\n",
       "      <td>visa</td>\n",
       "      <td>166.0</td>\n",
       "      <td>debit</td>\n",
       "      <td>330.0</td>\n",
       "      <td>87.0</td>\n",
       "      <td>287.0</td>\n",
       "      <td>NaN</td>\n",
       "      <td>outlook.com</td>\n",
       "      <td>NaN</td>\n",
       "      <td>1.0</td>\n",
       "      <td>1.0</td>\n",
       "      <td>0.0</td>\n",
       "      <td>0.0</td>\n",
       "      <td>0.0</td>\n",
       "      <td>1.0</td>\n",
       "      <td>0.0</td>\n",
       "      <td>0.0</td>\n",
       "      <td>1.0</td>\n",
       "      <td>0.0</td>\n",
       "      <td>1.0</td>\n",
       "      <td>0.0</td>\n",
       "      <td>1.0</td>\n",
       "      <td>1.0</td>\n",
       "      <td>0.0</td>\n",
       "      <td>NaN</td>\n",
       "      <td>NaN</td>\n",
       "      <td>0.0</td>\n",
       "      <td>NaN</td>\n",
       "      <td>NaN</td>\n",
       "      <td>NaN</td>\n",
       "      <td>NaN</td>\n",
       "      <td>NaN</td>\n",
       "      <td>...</td>\n",
       "      <td>NaN</td>\n",
       "      <td>NaN</td>\n",
       "      <td>NaN</td>\n",
       "      <td>NaN</td>\n",
       "      <td>NaN</td>\n",
       "      <td>NaN</td>\n",
       "      <td>NaN</td>\n",
       "      <td>NaN</td>\n",
       "      <td>NaN</td>\n",
       "      <td>NaN</td>\n",
       "      <td>NaN</td>\n",
       "      <td>NaN</td>\n",
       "      <td>NaN</td>\n",
       "      <td>NaN</td>\n",
       "      <td>NaN</td>\n",
       "      <td>NaN</td>\n",
       "      <td>NaN</td>\n",
       "      <td>NaN</td>\n",
       "      <td>NaN</td>\n",
       "      <td>NaN</td>\n",
       "      <td>NaN</td>\n",
       "      <td>NaN</td>\n",
       "      <td>NaN</td>\n",
       "      <td>NaN</td>\n",
       "      <td>NaN</td>\n",
       "      <td>NaN</td>\n",
       "      <td>NaN</td>\n",
       "      <td>NaN</td>\n",
       "      <td>NaN</td>\n",
       "      <td>NaN</td>\n",
       "      <td>NaN</td>\n",
       "      <td>NaN</td>\n",
       "      <td>NaN</td>\n",
       "      <td>NaN</td>\n",
       "      <td>NaN</td>\n",
       "      <td>NaN</td>\n",
       "      <td>NaN</td>\n",
       "      <td>NaN</td>\n",
       "      <td>NaN</td>\n",
       "      <td>NaN</td>\n",
       "    </tr>\n",
       "    <tr>\n",
       "      <th>3</th>\n",
       "      <td>2987003</td>\n",
       "      <td>0</td>\n",
       "      <td>86499</td>\n",
       "      <td>50.0</td>\n",
       "      <td>W</td>\n",
       "      <td>18132</td>\n",
       "      <td>567.0</td>\n",
       "      <td>150.0</td>\n",
       "      <td>mastercard</td>\n",
       "      <td>117.0</td>\n",
       "      <td>debit</td>\n",
       "      <td>476.0</td>\n",
       "      <td>87.0</td>\n",
       "      <td>NaN</td>\n",
       "      <td>NaN</td>\n",
       "      <td>yahoo.com</td>\n",
       "      <td>NaN</td>\n",
       "      <td>2.0</td>\n",
       "      <td>5.0</td>\n",
       "      <td>0.0</td>\n",
       "      <td>0.0</td>\n",
       "      <td>0.0</td>\n",
       "      <td>4.0</td>\n",
       "      <td>0.0</td>\n",
       "      <td>0.0</td>\n",
       "      <td>1.0</td>\n",
       "      <td>0.0</td>\n",
       "      <td>1.0</td>\n",
       "      <td>0.0</td>\n",
       "      <td>25.0</td>\n",
       "      <td>1.0</td>\n",
       "      <td>112.0</td>\n",
       "      <td>112.0</td>\n",
       "      <td>0.0</td>\n",
       "      <td>94.0</td>\n",
       "      <td>0.0</td>\n",
       "      <td>NaN</td>\n",
       "      <td>NaN</td>\n",
       "      <td>NaN</td>\n",
       "      <td>NaN</td>\n",
       "      <td>...</td>\n",
       "      <td>NaN</td>\n",
       "      <td>NaN</td>\n",
       "      <td>NaN</td>\n",
       "      <td>NaN</td>\n",
       "      <td>NaN</td>\n",
       "      <td>NaN</td>\n",
       "      <td>NaN</td>\n",
       "      <td>NaN</td>\n",
       "      <td>NaN</td>\n",
       "      <td>NaN</td>\n",
       "      <td>NaN</td>\n",
       "      <td>NaN</td>\n",
       "      <td>NaN</td>\n",
       "      <td>NaN</td>\n",
       "      <td>NaN</td>\n",
       "      <td>NaN</td>\n",
       "      <td>NaN</td>\n",
       "      <td>NaN</td>\n",
       "      <td>NaN</td>\n",
       "      <td>NaN</td>\n",
       "      <td>NaN</td>\n",
       "      <td>NaN</td>\n",
       "      <td>NaN</td>\n",
       "      <td>NaN</td>\n",
       "      <td>NaN</td>\n",
       "      <td>NaN</td>\n",
       "      <td>NaN</td>\n",
       "      <td>NaN</td>\n",
       "      <td>NaN</td>\n",
       "      <td>NaN</td>\n",
       "      <td>NaN</td>\n",
       "      <td>NaN</td>\n",
       "      <td>NaN</td>\n",
       "      <td>NaN</td>\n",
       "      <td>NaN</td>\n",
       "      <td>NaN</td>\n",
       "      <td>NaN</td>\n",
       "      <td>NaN</td>\n",
       "      <td>NaN</td>\n",
       "      <td>NaN</td>\n",
       "    </tr>\n",
       "    <tr>\n",
       "      <th>4</th>\n",
       "      <td>2987004</td>\n",
       "      <td>0</td>\n",
       "      <td>86506</td>\n",
       "      <td>50.0</td>\n",
       "      <td>H</td>\n",
       "      <td>4497</td>\n",
       "      <td>514.0</td>\n",
       "      <td>150.0</td>\n",
       "      <td>mastercard</td>\n",
       "      <td>102.0</td>\n",
       "      <td>credit</td>\n",
       "      <td>420.0</td>\n",
       "      <td>87.0</td>\n",
       "      <td>NaN</td>\n",
       "      <td>NaN</td>\n",
       "      <td>gmail.com</td>\n",
       "      <td>NaN</td>\n",
       "      <td>1.0</td>\n",
       "      <td>1.0</td>\n",
       "      <td>0.0</td>\n",
       "      <td>0.0</td>\n",
       "      <td>0.0</td>\n",
       "      <td>1.0</td>\n",
       "      <td>0.0</td>\n",
       "      <td>1.0</td>\n",
       "      <td>0.0</td>\n",
       "      <td>1.0</td>\n",
       "      <td>1.0</td>\n",
       "      <td>0.0</td>\n",
       "      <td>1.0</td>\n",
       "      <td>1.0</td>\n",
       "      <td>0.0</td>\n",
       "      <td>NaN</td>\n",
       "      <td>NaN</td>\n",
       "      <td>NaN</td>\n",
       "      <td>NaN</td>\n",
       "      <td>NaN</td>\n",
       "      <td>NaN</td>\n",
       "      <td>NaN</td>\n",
       "      <td>NaN</td>\n",
       "      <td>...</td>\n",
       "      <td>0.0</td>\n",
       "      <td>70787.0</td>\n",
       "      <td>NaN</td>\n",
       "      <td>NaN</td>\n",
       "      <td>NaN</td>\n",
       "      <td>NaN</td>\n",
       "      <td>NaN</td>\n",
       "      <td>NaN</td>\n",
       "      <td>NaN</td>\n",
       "      <td>NaN</td>\n",
       "      <td>100.0</td>\n",
       "      <td>NotFound</td>\n",
       "      <td>NaN</td>\n",
       "      <td>-480.0</td>\n",
       "      <td>New</td>\n",
       "      <td>NotFound</td>\n",
       "      <td>166.0</td>\n",
       "      <td>NaN</td>\n",
       "      <td>542.0</td>\n",
       "      <td>144.0</td>\n",
       "      <td>NaN</td>\n",
       "      <td>NaN</td>\n",
       "      <td>NaN</td>\n",
       "      <td>NaN</td>\n",
       "      <td>NaN</td>\n",
       "      <td>NaN</td>\n",
       "      <td>NaN</td>\n",
       "      <td>New</td>\n",
       "      <td>NotFound</td>\n",
       "      <td>Android 7.0</td>\n",
       "      <td>samsung browser 6.2</td>\n",
       "      <td>32.0</td>\n",
       "      <td>2220x1080</td>\n",
       "      <td>match_status:2</td>\n",
       "      <td>T</td>\n",
       "      <td>F</td>\n",
       "      <td>T</td>\n",
       "      <td>T</td>\n",
       "      <td>mobile</td>\n",
       "      <td>SAMSUNG SM-G892A Build/NRD90M</td>\n",
       "    </tr>\n",
       "  </tbody>\n",
       "</table>\n",
       "<p>5 rows × 434 columns</p>\n",
       "</div>"
      ],
      "text/plain": [
       "   TransactionID  isFraud  ...  DeviceType                     DeviceInfo\n",
       "0        2987000        0  ...         NaN                            NaN\n",
       "1        2987001        0  ...         NaN                            NaN\n",
       "2        2987002        0  ...         NaN                            NaN\n",
       "3        2987003        0  ...         NaN                            NaN\n",
       "4        2987004        0  ...      mobile  SAMSUNG SM-G892A Build/NRD90M\n",
       "\n",
       "[5 rows x 434 columns]"
      ]
     },
     "execution_count": 92,
     "metadata": {
      "tags": []
     },
     "output_type": "execute_result"
    }
   ],
   "source": [
    "df.head()"
   ]
  },
  {
   "cell_type": "markdown",
   "metadata": {
    "colab_type": "text",
    "id": "Rjxy-d7CYfhQ"
   },
   "source": [
    "### EDA"
   ]
  },
  {
   "cell_type": "code",
   "execution_count": 93,
   "metadata": {
    "colab": {
     "base_uri": "https://localhost:8080/",
     "height": 360
    },
    "colab_type": "code",
    "executionInfo": {
     "elapsed": 2197,
     "status": "ok",
     "timestamp": 1574068558513,
     "user": {
      "displayName": "yAstar",
      "photoUrl": "https://lh3.googleusercontent.com/a-/AAuE7mAQMTWITMWULQCIbgtY3LQLmQLfQcX0QkIpGCWV=s64",
      "userId": "05115090728237574619"
     },
     "user_tz": -330
    },
    "id": "x5y9eow_y3bc",
    "outputId": "924b2c8c-3998-4c78-cf9e-065fd00003d5"
   },
   "outputs": [
    {
     "name": "stdout",
     "output_type": "stream",
     "text": [
      "percentage of fraud transaction = 3.499000914417313 %\n",
      "isFraud\n",
      "0    569877\n",
      "1     20663\n",
      "Name: TransactionID, dtype: int64\n"
     ]
    },
    {
     "data": {
      "image/png": "[encoded data removed]",
      "text/plain": [
       "<Figure size 432x288 with 1 Axes>"
      ]
     },
     "metadata": {
      "tags": []
     },
     "output_type": "display_data"
    }
   ],
   "source": [
    "cnt = df.groupby(\"isFraud\")['TransactionID'].count()\n",
    "cnt.plot.bar()\n",
    "rt = (cnt[1]*100)/(cnt[0]+cnt[1])\n",
    "print(\"percentage of fraud transaction = {} %\".format(rt))\n",
    "print(cnt)"
   ]
  },
  {
   "cell_type": "code",
   "execution_count": 94,
   "metadata": {
    "colab": {
     "base_uri": "https://localhost:8080/",
     "height": 497
    },
    "colab_type": "code",
    "executionInfo": {
     "elapsed": 4081,
     "status": "ok",
     "timestamp": 1574068585676,
     "user": {
      "displayName": "yAstar",
      "photoUrl": "https://lh3.googleusercontent.com/a-/AAuE7mAQMTWITMWULQCIbgtY3LQLmQLfQcX0QkIpGCWV=s64",
      "userId": "05115090728237574619"
     },
     "user_tz": -330
    },
    "id": "dW3doYKyaJP-",
    "outputId": "eb615d51-c64c-4603-bd41-c0df4d4d8953"
   },
   "outputs": [
    {
     "data": {
      "image/png": "[encoded data removed]",
      "text/plain": [
       "<Figure size 720x576 with 2 Axes>"
      ]
     },
     "metadata": {
      "tags": []
     },
     "output_type": "display_data"
    }
   ],
   "source": [
    "plt.figure(figsize=(10, 8))\n",
    "\n",
    "plt.subplot(1,2,1)\n",
    "sns.boxplot(x = 'isFraud', y = 'TransactionAmt', data = df[df['TransactionAmt'] <1000],showbox=True )\n",
    "\n",
    "plt.subplot(1,2,2)\n",
    "sns.distplot(df[df['isFraud'] == 1.0]['TransactionAmt'][0:] , label = \"1\", color = 'red')\n",
    "sns.distplot(df[df['isFraud'] == 0.0]['TransactionAmt'][0:] , label = \"0\" , color = 'blue' )\n",
    "plt.show()\n"
   ]
  },
  {
   "cell_type": "code",
   "execution_count": 95,
   "metadata": {
    "colab": {
     "base_uri": "https://localhost:8080/",
     "height": 514
    },
    "colab_type": "code",
    "executionInfo": {
     "elapsed": 1358,
     "status": "ok",
     "timestamp": 1574068644173,
     "user": {
      "displayName": "yAstar",
      "photoUrl": "https://lh3.googleusercontent.com/a-/AAuE7mAQMTWITMWULQCIbgtY3LQLmQLfQcX0QkIpGCWV=s64",
      "userId": "05115090728237574619"
     },
     "user_tz": -330
    },
    "id": "GjfW4QQPdrMz",
    "outputId": "7610b263-f0ff-4eb5-80f8-43cd35da2b25"
   },
   "outputs": [
    {
     "data": {
      "text/plain": [
       "<function matplotlib.pyplot.show>"
      ]
     },
     "execution_count": 95,
     "metadata": {
      "tags": []
     },
     "output_type": "execute_result"
    },
    {
     "data": {
      "image/png": "[encoded data removed]",
      "text/plain": [
       "<Figure size 864x576 with 2 Axes>"
      ]
     },
     "metadata": {
      "tags": []
     },
     "output_type": "display_data"
    }
   ],
   "source": [
    "plt.figure(figsize=(12, 8))\n",
    "plt.subplot(1,2,1)\n",
    "sns.countplot(x='ProductCD', data=df)\n",
    "plt.subplot(1,2,2)\n",
    "sns.countplot(x='ProductCD', hue='isFraud', data=df)\n",
    "plt.show"
   ]
  },
  {
   "cell_type": "code",
   "execution_count": 96,
   "metadata": {
    "colab": {
     "base_uri": "https://localhost:8080/",
     "height": 296
    },
    "colab_type": "code",
    "executionInfo": {
     "elapsed": 1799,
     "status": "ok",
     "timestamp": 1574068648599,
     "user": {
      "displayName": "yAstar",
      "photoUrl": "https://lh3.googleusercontent.com/a-/AAuE7mAQMTWITMWULQCIbgtY3LQLmQLfQcX0QkIpGCWV=s64",
      "userId": "05115090728237574619"
     },
     "user_tz": -330
    },
    "id": "K-Z27bccrZrJ",
    "outputId": "9621a70a-7745-432c-cc1c-2b1b396efab4"
   },
   "outputs": [
    {
     "data": {
      "text/plain": [
       "<function matplotlib.pyplot.show>"
      ]
     },
     "execution_count": 96,
     "metadata": {
      "tags": []
     },
     "output_type": "execute_result"
    },
    {
     "data": {
      "image/png": "[encoded data removed]",
      "text/plain": [
       "<Figure size 720x288 with 2 Axes>"
      ]
     },
     "metadata": {
      "tags": []
     },
     "output_type": "display_data"
    }
   ],
   "source": [
    "plt.figure(figsize=(10, 4))\n",
    "plt.subplot(1,2,1)\n",
    "sns.countplot(x='card6', data=df)\n",
    "plt.subplot(1,2,2)\n",
    "sns.countplot(x='card6', hue='isFraud', data=df)\n",
    "plt.show"
   ]
  },
  {
   "cell_type": "code",
   "execution_count": 97,
   "metadata": {
    "colab": {
     "base_uri": "https://localhost:8080/",
     "height": 394
    },
    "colab_type": "code",
    "executionInfo": {
     "elapsed": 1757,
     "status": "ok",
     "timestamp": 1574068653023,
     "user": {
      "displayName": "yAstar",
      "photoUrl": "https://lh3.googleusercontent.com/a-/AAuE7mAQMTWITMWULQCIbgtY3LQLmQLfQcX0QkIpGCWV=s64",
      "userId": "05115090728237574619"
     },
     "user_tz": -330
    },
    "id": "Yf2tPxqvg2uP",
    "outputId": "4b760f05-1129-4e6d-e07b-92ee254bbb7d"
   },
   "outputs": [
    {
     "name": "stdout",
     "output_type": "stream",
     "text": [
      "isFraud\n",
      "0    45\n",
      "1    31\n",
      "Name: TransactionID, dtype: int64\n",
      "==================================================\n",
      " 0.41 percent of transactionID having protonmail.com as P_emaildomain is fraud \n",
      "==================================================\n"
     ]
    },
    {
     "data": {
      "image/png": "[encoded data removed]",
      "text/plain": [
       "<Figure size 432x288 with 1 Axes>"
      ]
     },
     "metadata": {
      "tags": []
     },
     "output_type": "display_data"
    }
   ],
   "source": [
    "cnt = df.groupby(\"P_emaildomain\").get_group('protonmail.com').groupby('isFraud')['TransactionID'].count()\n",
    "a =cnt[1]/(cnt[0]+cnt[1])\n",
    "cnt.plot.bar()\n",
    "print(cnt)\n",
    "print('='*50)\n",
    "print(' %.2f percent of transactionID having protonmail.com as P_emaildomain is fraud ' % a)\n",
    "print('='*50)"
   ]
  },
  {
   "cell_type": "code",
   "execution_count": 98,
   "metadata": {
    "colab": {
     "base_uri": "https://localhost:8080/",
     "height": 394
    },
    "colab_type": "code",
    "executionInfo": {
     "elapsed": 1708,
     "status": "ok",
     "timestamp": 1574068656324,
     "user": {
      "displayName": "yAstar",
      "photoUrl": "https://lh3.googleusercontent.com/a-/AAuE7mAQMTWITMWULQCIbgtY3LQLmQLfQcX0QkIpGCWV=s64",
      "userId": "05115090728237574619"
     },
     "user_tz": -330
    },
    "id": "95wTogUtr8R6",
    "outputId": "b97643fe-9338-46a4-e5a1-0b637f86f7da"
   },
   "outputs": [
    {
     "name": "stdout",
     "output_type": "stream",
     "text": [
      "isFraud\n",
      "0     2\n",
      "1    39\n",
      "Name: TransactionID, dtype: int64\n",
      "==================================================\n",
      " 0.95 percent of transactionID having protonmail.com as R_emaildomain is fraud \n",
      "==================================================\n"
     ]
    },
    {
     "data": {
      "image/png": "[encoded data removed]",
      "text/plain": [
       "<Figure size 432x288 with 1 Axes>"
      ]
     },
     "metadata": {
      "tags": []
     },
     "output_type": "display_data"
    }
   ],
   "source": [
    "cnt = df.groupby(\"R_emaildomain\").get_group('protonmail.com').groupby('isFraud')['TransactionID'].count()\n",
    "a =cnt[1]/(cnt[0]+cnt[1])\n",
    "cnt.plot.bar()\n",
    "print(cnt)\n",
    "print('='*50)\n",
    "print(' %.2f percent of transactionID having protonmail.com as R_emaildomain is fraud ' % a)\n",
    "print('='*50)"
   ]
  },
  {
   "cell_type": "code",
   "execution_count": 99,
   "metadata": {
    "colab": {
     "base_uri": "https://localhost:8080/",
     "height": 34
    },
    "colab_type": "code",
    "executionInfo": {
     "elapsed": 2166,
     "status": "ok",
     "timestamp": 1574068660179,
     "user": {
      "displayName": "yAstar",
      "photoUrl": "https://lh3.googleusercontent.com/a-/AAuE7mAQMTWITMWULQCIbgtY3LQLmQLfQcX0QkIpGCWV=s64",
      "userId": "05115090728237574619"
     },
     "user_tz": -330
    },
    "id": "185a-xBEGV7t",
    "outputId": "45842aee-800e-4ac8-8d7d-121127b6f5a4"
   },
   "outputs": [
    {
     "name": "stdout",
     "output_type": "stream",
     "text": [
      "There are 414 columns in our dataset with missing values.\n"
     ]
    }
   ],
   "source": [
    "print(f'There are {df.isnull().any().sum()} columns in our dataset with missing values.')"
   ]
  },
  {
   "cell_type": "code",
   "execution_count": 0,
   "metadata": {
    "colab": {},
    "colab_type": "code",
    "id": "-B8iXpVQA7Ag"
   },
   "outputs": [],
   "source": [
    "#https://pandas-profiling.github.io/pandas-profiling/docs/\n",
    "#open report for more eda.\n",
    "\n",
    "\"\"\"\n",
    "import pandas_profiling\n",
    "profDf = pandas_profiling.ProfileReport(df)\n",
    "profDf.to_file(outputfile='/content/drive/My Drive/IEEE_F/report.html')\n",
    "rejected_variables = profDf.get_rejected_variables(threshold=0.9)\n",
    "\"\"\""
   ]
  },
  {
   "cell_type": "code",
   "execution_count": 0,
   "metadata": {
    "colab": {},
    "colab_type": "code",
    "id": "NHk0A2a4KCZs"
   },
   "outputs": [],
   "source": [
    "rejected_variables = ['V2', 'V5', 'V7', 'V9', 'V10', 'V12', 'V15', 'V16', 'V18', 'V19', 'V21', 'V22', 'V24', 'V25', 'V28', 'V29', 'V31', 'V32', 'V33', 'V34', 'V35', 'V38', 'V39', 'V42', 'V43', 'V45', 'V46', 'V49', 'V50', 'V51', 'V52', 'V53', 'V55', 'V57', 'V58', 'V60', 'V61', 'V63', 'V64', 'V66', 'V69', 'V71', 'V72', 'V73', 'V74', 'V75', 'V77', 'V79', 'V81', 'V83', 'V84', 'V85', 'V87', 'V90', 'V92', 'V93', 'V94', 'V95', 'V96', 'V97', 'V98', 'V99', 'V100', 'V101', 'V102', 'V103', 'V104', 'V105', 'V106', 'V109', 'V110', 'V112', 'V113', 'V114', 'V116', 'V118', 'V119', 'V122', 'V125', 'V126', 'V128', 'V131', 'V132', 'V133', 'V134', 'V135', 'V137', 'V140', 'V141', 'V143', 'V144', 'V145', 'V146', 'V148', 'V149', 'V150', 'V151', 'V152', 'V153', 'V154', 'V155', 'V157', 'V158', 'V159', 'V161', 'V163', 'V164', 'V167', 'V168', 'V170', 'V172', 'V174', 'V177', 'V179', 'V181', 'V183', 'V184', 'V186', 'V189', 'V190', 'V191', 'V192', 'V193', 'V194', 'V195', 'V196', 'V197', 'V199', 'V200', 'V201', 'V202', 'V204', 'V206', 'V208', 'V211', 'V212', 'V213', 'V214', 'V216', 'V217', 'V219', 'V222', 'V225', 'V227', 'V230', 'V231', 'V232', 'V233', 'V236', 'V237', 'V239', 'V241', 'V242', 'V243', 'V244', 'V245', 'V246', 'V247', 'V248', 'V249', 'V251', 'V254', 'V255', 'V256', 'V259', 'V262', 'V263', 'V265', 'V268', 'V269', 'V270', 'V272', 'V273', 'V275', 'V276', 'V278', 'V279', 'V280', 'V282', 'V287', 'V288', 'V290', 'V292', 'V293', 'V295', 'V298', 'V299', 'V300', 'V302', 'V304', 'V306', 'V308', 'V311', 'V312', 'V313', 'V315', 'V316', 'V317', 'V318', 'V319', 'V321', 'V322', 'V323', 'V324', 'V325', 'V326', 'V327', 'V328', 'V329', 'V330', 'V331', 'V332', 'V333', 'V334', 'V335', 'V336', 'V337', 'V338', 'V339','D6','D7','D8','D9','D12','D13','D14','C3','M5','id_08','id_33','card4','id_07','id_14','id_21','id_30','id_32','id_34','id_22', 'id_23', 'id_24', 'id_25', 'id_26', 'id_27']"
   ]
  },
  {
   "cell_type": "code",
   "execution_count": 101,
   "metadata": {
    "colab": {
     "base_uri": "https://localhost:8080/",
     "height": 34
    },
    "colab_type": "code",
    "executionInfo": {
     "elapsed": 1667,
     "status": "ok",
     "timestamp": 1574068664270,
     "user": {
      "displayName": "yAstar",
      "photoUrl": "https://lh3.googleusercontent.com/a-/AAuE7mAQMTWITMWULQCIbgtY3LQLmQLfQcX0QkIpGCWV=s64",
      "userId": "05115090728237574619"
     },
     "user_tz": -330
    },
    "id": "Ox1pp7euftiM",
    "outputId": "dfb60a38-30bc-4de4-85d2-548005e3f19e"
   },
   "outputs": [
    {
     "data": {
      "text/plain": [
       "29671"
      ]
     },
     "execution_count": 101,
     "metadata": {
      "tags": []
     },
     "output_type": "execute_result"
    }
   ],
   "source": [
    "del df\n",
    "gc.collect()\n"
   ]
  },
  {
   "cell_type": "markdown",
   "metadata": {
    "colab_type": "text",
    "id": "OUmIVLfTnFu-"
   },
   "source": [
    "#### Summary\n",
    "* Data is imbalanced.\n",
    "* There are 414 columns in our dataset with missing values.\n",
    "* Number of observations are\t590540\n",
    "* Data have 25.4% missing values.\n",
    "* W category of feature ProductCD is dominating over other.\n",
    "* V features are highly correlated.\n",
    "* Debit card transactions are more than credit card transactions.\n",
    "* Transactions having P_emaildomain or R_emaildomain as protonmail.com have high chances of being fraud"
   ]
  },
  {
   "cell_type": "markdown",
   "metadata": {
    "colab_type": "text",
    "id": "zTdOuWbLvKRd"
   },
   "source": [
    "##Feature Enginering & Data Prepration"
   ]
  },
  {
   "cell_type": "code",
   "execution_count": 102,
   "metadata": {
    "colab": {
     "base_uri": "https://localhost:8080/",
     "height": 34
    },
    "colab_type": "code",
    "executionInfo": {
     "elapsed": 33789,
     "status": "ok",
     "timestamp": 1574068740595,
     "user": {
      "displayName": "yAstar",
      "photoUrl": "https://lh3.googleusercontent.com/a-/AAuE7mAQMTWITMWULQCIbgtY3LQLmQLfQcX0QkIpGCWV=s64",
      "userId": "05115090728237574619"
     },
     "user_tz": -330
    },
    "id": "JtIP9XS_Mm6O",
    "outputId": "6eebbbd6-2069-4eca-ff83-8f42ed1ca05b"
   },
   "outputs": [
    {
     "name": "stdout",
     "output_type": "stream",
     "text": [
      "Train shape (590540, 432) test shape (506691, 432)\n"
     ]
    }
   ],
   "source": [
    "# LOAD TRAIN\n",
    "X_train = pd.read_csv('/content/drive/My Drive/IEEE_F/train_transaction.csv',index_col='TransactionID')\n",
    "train_id = pd.read_csv('/content/drive/My Drive/IEEE_F/train_identity.csv',index_col='TransactionID')\n",
    "X_train = X_train.merge(train_id, how='left', left_index=True, right_index=True)\n",
    "# LOAD TEST\n",
    "X_test = pd.read_csv('/content/drive/My Drive/IEEE_F/test_transaction.csv',index_col='TransactionID')\n",
    "test_id = pd.read_csv('/content/drive/My Drive/IEEE_F/test_identity.csv',index_col='TransactionID')\n",
    "X_test = X_test.merge(test_id, how='left', left_index=True, right_index=True)\n",
    "# TARGET\n",
    "y_train = X_train['isFraud'].copy()\n",
    "del train_id, test_id, X_train['isFraud']; x = gc.collect()\n",
    "# PRINT STATUS\n",
    "print('Train shape',X_train.shape,'test shape',X_test.shape)"
   ]
  },
  {
   "cell_type": "code",
   "execution_count": 0,
   "metadata": {
    "colab": {},
    "colab_type": "code",
    "id": "Ipu9eH-cNySw"
   },
   "outputs": [],
   "source": [
    "cat_type = ['ProductCD', 'card4', 'card6', 'P_emaildomain', 'R_emaildomain','M1', 'M2', 'M3', 'M4','M5',\n",
    "            'M6', 'M7', 'M8', 'M9', 'id_12', 'id_15', 'id_16', 'id_23', 'id_27', 'id_28', 'id_29', 'id_30', \n",
    "            'id_31', 'id_33', 'id_34', 'id_35', 'id_36', 'id_37', 'id_38', 'DeviceType', 'DeviceInfo']\n",
    "for col in X_train.columns:\n",
    "  if col in cat_type:\n",
    "    X_train[col] = X_train[col].astype('category')\n",
    "    X_test[col] = X_test[col].astype('category')\n",
    "  else:\n",
    "    X_train[col] = X_train[col].astype('float32')\n",
    "    X_test[col] = X_test[col].astype('float32')"
   ]
  },
  {
   "cell_type": "code",
   "execution_count": 0,
   "metadata": {
    "colab": {},
    "colab_type": "code",
    "id": "KMcnd5UfRRFZ"
   },
   "outputs": [],
   "source": [
    "# LABEL ENCODE AND MEMORY REDUCE\n",
    "for i,f in enumerate(X_train.columns):\n",
    "    # FACTORIZE CATEGORICAL VARIABLES\n",
    "    if f in cat_type : \n",
    "        df_comb = pd.concat([X_train[f],X_test[f]],axis=0)\n",
    "        df_comb,_ = df_comb.factorize(sort=True)\n",
    "        if df_comb.max()>32000: print(f,'needs int32')\n",
    "        X_train[f] = df_comb[:len(X_train)].astype('int16')\n",
    "        X_test[f] = df_comb[len(X_train):].astype('int16')\n",
    "        \n",
    "    # SHIFT ALL NUMERICS POSITIVE. SET NAN to -1\n",
    "    elif f not in ['TransactionAmt','TransactionDT']:\n",
    "        mn = np.min((X_train[f].min(),X_test[f].min()))\n",
    "        X_train[f] -= np.float32(mn)\n",
    "        X_test[f] -= np.float32(mn)\n",
    "        X_train[f].fillna(-1,inplace=True)\n",
    "        X_test[f].fillna(-1,inplace=True)"
   ]
  },
  {
   "cell_type": "code",
   "execution_count": 0,
   "metadata": {
    "colab": {},
    "colab_type": "code",
    "id": "9POblTsYZ75p"
   },
   "outputs": [],
   "source": [
    "#normalising D columns so it will not increase with time\n",
    "#https://www.kaggle.com/c/ieee-fraud-detection/discussion/100775#latest-604205\n",
    "for i in range(1,16):\n",
    "    if i in [1,2,3,5,9]: continue\n",
    "    X_train['D'+str(i)] =  X_train['D'+str(i)] - X_train.TransactionDT/np.float32(24*60*60)\n",
    "    X_test['D'+str(i)] = X_test['D'+str(i)] - X_test.TransactionDT/np.float32(24*60*60)"
   ]
  },
  {
   "cell_type": "code",
   "execution_count": 0,
   "metadata": {
    "colab": {},
    "colab_type": "code",
    "id": "NI57gmf4N2b6"
   },
   "outputs": [],
   "source": [
    "# FREQUENCY ENCODE TOGETHER\n",
    "#https://www.kaggle.com/cdeotte/xgb-fraud-with-magic-0-9600/output\n",
    "def freq_encode(df1, df2, cols):\n",
    "  \"\"\"count of total no of appearnce of a value in a given column in whole dataset(test+train)\"\"\"\n",
    "  for col in cols:\n",
    "    df = pd.concat([df1[col],df2[col]])\n",
    "    vc = df.value_counts(dropna=True, normalize=True).to_dict() #creating a dict with feature value as key and feature vake count as value.\n",
    "    vc[-1] = -1   #for nan values\n",
    "    cn = col+'_FE'\n",
    "    df1[cn] = df1[col].map(vc)  #mapping values according to feature value\n",
    "    df1[cn] = df1[cn].astype('float32')   #storing in float 32 format\n",
    "    df2[cn] = df2[col].map(vc)\n",
    "    df2[cn] = df2[cn].astype('float32')\n",
    "    print(cn,', ',end='')\n",
    "\n",
    "# LABEL ENCODE\n",
    "def label_encode(col,train=X_train,test=X_test,verbose=True):\n",
    "  \"\"\"this function perform label encoding\"\"\"\n",
    "  df_comb = pd.concat([train[col],test[col]],axis=0)\n",
    "  df_comb,_ = df_comb.factorize(sort=True)\n",
    "  cn = col\n",
    "  if df_comb.max()>32000: #checking the max value so that we can reduce memory usage\n",
    "    train[cn] = df_comb[:len(train)].astype('int32')\n",
    "    test[cn] = df_comb[len(train):].astype('int32')\n",
    "  else:\n",
    "    train[cn] = df_comb[:len(train)].astype('int16')\n",
    "    test[cn] = df_comb[len(train):].astype('int16')\n",
    "  del df_comb; x=gc.collect()\n",
    "  if verbose: print(cn,', ',end='')\n",
    "\n",
    "# GROUP AGGREGATION MEAN AND STD\n",
    "# https://www.kaggle.com/kyakovlev/ieee-fe-with-some-eda\n",
    "def encode_AG(main_columns, uids, aggregations=['mean'], train_df=X_train, test_df=X_test, \n",
    "              fillna=True, usena=False):\n",
    "    \"\"\"AGGREGATION OF MAIN WITH UID FOR GIVEN STATISTICS\n",
    "    we made group based on uid and then aggregate the value of column and then add it in dataset as new feature\"\"\"\n",
    "    for main_column in main_columns:\n",
    "      for col in uids:\n",
    "        for agg_type in aggregations:\n",
    "          new_col_name = main_column+'_'+col+'_'+agg_type\n",
    "          temp_df = pd.concat([train_df[[col, main_column]], test_df[[col,main_column]]])\n",
    "          if usena: temp_df.loc[temp_df[main_column]==-1,main_column] = np.nan\n",
    "          temp_df = temp_df.groupby([col])[main_column].agg([agg_type]).reset_index().rename(\n",
    "                                                        columns={agg_type: new_col_name}) #taking aggregation according to group by col \n",
    "\n",
    "          temp_df.index = list(temp_df[col])\n",
    "          temp_df = temp_df[new_col_name].to_dict()   \n",
    "\n",
    "          train_df[new_col_name] = train_df[col].map(temp_df).astype('float32')\n",
    "          test_df[new_col_name]  = test_df[col].map(temp_df).astype('float32')\n",
    "                \n",
    "          if fillna:\n",
    "            train_df[new_col_name].fillna(-1,inplace=True)\n",
    "            test_df[new_col_name].fillna(-1,inplace=True)\n",
    "         \n",
    "          print(\"'\"+new_col_name+\"'\",', ',end='')\n",
    "                \n",
    "# COMBINE FEATURES\n",
    "def comb_ftr(col1,col2,df1=X_train,df2=X_test):\n",
    "  \"\"\"this function is used for combining two feature value\"\"\"\n",
    "  cn = col1+'_'+col2\n",
    "  df1[cn] = df1[col1].astype(str)+'_'+df1[col2].astype(str) # combining two feature value with _ as sepration\n",
    "  df2[cn] = df2[col1].astype(str)+'_'+df2[col2].astype(str) \n",
    "  label_encode(cn,verbose=False)\n",
    "  print(cn,', ',end='')\n",
    "    \n",
    "# GROUP AGGREGATION NUNIQUE\n",
    "#https://stackoverflow.com/questions/18554920/pandas-aggregate-count-distinct\n",
    "def AG_enc_nunq(main_columns, uids, train_df=X_train, test_df=X_test):\n",
    "  \"\"\"AGGREGATION OF MAIN WITH UID FOR UNIQUE VALUE COUNT\"\"\"\n",
    "  for main_column in main_columns:  \n",
    "    for col in uids:\n",
    "      comb = pd.concat([train_df[[col]+[main_column]],test_df[[col]+[main_column]]],axis=0)\n",
    "      mp = comb.groupby(col)[main_column].agg(['nunique'])['nunique'].to_dict()\n",
    "      train_df[col+'_'+main_column+'_ct'] = train_df[col].map(mp).astype('float32')\n",
    "      test_df[col+'_'+main_column+'_ct'] = test_df[col].map(mp).astype('float32')\n",
    "      print(col+'_'+main_column+'_ct, ',end='')"
   ]
  },
  {
   "cell_type": "markdown",
   "metadata": {
    "colab_type": "text",
    "id": "H16sQjcjDkoj"
   },
   "source": [
    "**What is UIDS?**\n",
    "\n",
    "uids are like user identification they help us to identify a user if user done some fraud all the transaction by that user marked as fraud there are some feature in our data set which gave us idea about the use so we use combination of these feature as uids.\n",
    "\n",
    "**Functions :**\n",
    "\n",
    "**freq_encode :** count of total no of appearnce of a value in a given column in whole dataset(test+train) and add it as a new feature.\n",
    "\n",
    "**comb_ftr :** this function take value from two feature and combine them with _ in between to create a new feature.\n",
    "\n",
    "\n",
    "\n",
    "**encode_AG :** encode_AG function create group by uids and take aggregation for main columns on whole dataset for each value in uids,maincolumns and aggregation.\n",
    "\n",
    "**AG_enc_nunq :** AG_enc_nunq first make group by uids and than store number of unique vale of main columns in a dict and add them as new feature."
   ]
  },
  {
   "cell_type": "code",
   "execution_count": 107,
   "metadata": {
    "colab": {
     "base_uri": "https://localhost:8080/",
     "height": 34
    },
    "colab_type": "code",
    "executionInfo": {
     "elapsed": 2185,
     "status": "ok",
     "timestamp": 1574068903179,
     "user": {
      "displayName": "yAstar",
      "photoUrl": "https://lh3.googleusercontent.com/a-/AAuE7mAQMTWITMWULQCIbgtY3LQLmQLfQcX0QkIpGCWV=s64",
      "userId": "05115090728237574619"
     },
     "user_tz": -330
    },
    "id": "WoAZPgpsX183",
    "outputId": "7956f5ac-2ae5-45b5-c339-47be8bf2bc63"
   },
   "outputs": [
    {
     "name": "stdout",
     "output_type": "stream",
     "text": [
      "P_isproton, R_isproton, cents, "
     ]
    }
   ],
   "source": [
    "# these feature enginering are based on EDA and kaggle disscusion\n",
    "X_train['P_isproton']=(X_train['P_emaildomain']=='protonmail.com')\n",
    "X_test['P_isproton']=(X_test['P_emaildomain']=='protonmail.com')\n",
    "print('P_isproton, ', end='')\n",
    "X_train['R_isproton']=(X_train['R_emaildomain']=='protonmail.com')\n",
    "X_test['R_isproton']=(X_test['R_emaildomain']=='protonmail.com')\n",
    "print('R_isproton, ', end='')\n",
    "X_train['cents'] = (X_train['TransactionAmt'] - np.floor(X_train['TransactionAmt'])).astype('float32')\n",
    "X_test['cents'] = (X_test['TransactionAmt'] - np.floor(X_test['TransactionAmt'])).astype('float32')\n",
    "print('cents, ', end='')"
   ]
  },
  {
   "cell_type": "code",
   "execution_count": 108,
   "metadata": {
    "colab": {
     "base_uri": "https://localhost:8080/",
     "height": 54
    },
    "colab_type": "code",
    "executionInfo": {
     "elapsed": 26290,
     "status": "ok",
     "timestamp": 1574068933012,
     "user": {
      "displayName": "yAstar",
      "photoUrl": "https://lh3.googleusercontent.com/a-/AAuE7mAQMTWITMWULQCIbgtY3LQLmQLfQcX0QkIpGCWV=s64",
      "userId": "05115090728237574619"
     },
     "user_tz": -330
    },
    "id": "musqSMTLYcIj",
    "outputId": "259da295-7afa-4eec-b857-b7827748528a"
   },
   "outputs": [
    {
     "name": "stdout",
     "output_type": "stream",
     "text": [
      "addr1_FE , card1_FE , card2_FE , card3_FE , P_emaildomain_FE , card1_addr1 , card1_addr1_P_emaildomain , card1_addr1_FE , card1_addr1_P_emaildomain_FE , 'TransactionAmt_card1_mean' , 'TransactionAmt_card1_std' , 'TransactionAmt_card1_addr1_mean' , 'TransactionAmt_card1_addr1_std' , 'TransactionAmt_card1_addr1_P_emaildomain_mean' , 'TransactionAmt_card1_addr1_P_emaildomain_std' , 'D9_card1_mean' , 'D9_card1_std' , 'D9_card1_addr1_mean' , 'D9_card1_addr1_std' , 'D9_card1_addr1_P_emaildomain_mean' , 'D9_card1_addr1_P_emaildomain_std' , 'D11_card1_mean' , 'D11_card1_std' , 'D11_card1_addr1_mean' , 'D11_card1_addr1_std' , 'D11_card1_addr1_P_emaildomain_mean' , 'D11_card1_addr1_P_emaildomain_std' , "
     ]
    }
   ],
   "source": [
    "# FREQUENCY ENCODE: ADDR1, CARD1, CARD2, CARD3, P_EMAILDOMAIN\n",
    "freq_encode(X_train,X_test,['addr1','card1','card2','card3','P_emaildomain'])\n",
    "# COMBINE COLUMNS CARD1+ADDR1, CARD1+ADDR1+P_EMAILDOMAIN\n",
    "comb_ftr('card1','addr1')\n",
    "comb_ftr('card1_addr1','P_emaildomain')\n",
    "# FREQUENCY ENOCDE\n",
    "freq_encode(X_train,X_test,['card1_addr1','card1_addr1_P_emaildomain'])\n",
    "# GROUP AGGREGATE\n",
    "encode_AG(['TransactionAmt','D9','D11'],['card1','card1_addr1','card1_addr1_P_emaildomain'],['mean','std'],usena=True)"
   ]
  },
  {
   "cell_type": "code",
   "execution_count": 0,
   "metadata": {
    "colab": {},
    "colab_type": "code",
    "id": "rBoXQyFwYnIr"
   },
   "outputs": [],
   "source": [
    "START_DATE = datetime.datetime.strptime('2017-11-30', '%Y-%m-%d')\n",
    "X_train['DT_M'] = X_train['TransactionDT'].apply(lambda x: (START_DATE + datetime.timedelta(seconds = x)))\n",
    "X_train['DT_M'] = (X_train['DT_M'].dt.year-2017)*12 + X_train['DT_M'].dt.month \n",
    "\n",
    "X_test['DT_M'] = X_test['TransactionDT'].apply(lambda x: (START_DATE + datetime.timedelta(seconds = x)))\n",
    "X_test['DT_M'] = (X_test['DT_M'].dt.year-2017)*12 + X_test['DT_M'].dt.month"
   ]
  },
  {
   "cell_type": "code",
   "execution_count": 0,
   "metadata": {
    "colab": {},
    "colab_type": "code",
    "id": "WF-hE70jZE5c"
   },
   "outputs": [],
   "source": [
    "#https://www.kaggle.com/cdeotte/xgb-fraud-with-magic-0-9600/output\n",
    "X_train['day'] = X_train.TransactionDT / (24*60*60)\n",
    "X_train['uid'] = X_train.card1_addr1.astype(str)+'_'+np.floor(X_train.day-X_train.D1).astype(str)\n",
    "\n",
    "X_test['day'] = X_test.TransactionDT / (24*60*60)\n",
    "X_test['uid'] = X_test.card1_addr1.astype(str)+'_'+np.floor(X_test.day-X_test.D1).astype(str)"
   ]
  },
  {
   "cell_type": "code",
   "execution_count": 111,
   "metadata": {
    "colab": {
     "base_uri": "https://localhost:8080/",
     "height": 54
    },
    "colab_type": "code",
    "executionInfo": {
     "elapsed": 175457,
     "status": "ok",
     "timestamp": 1574069129394,
     "user": {
      "displayName": "yAstar",
      "photoUrl": "https://lh3.googleusercontent.com/a-/AAuE7mAQMTWITMWULQCIbgtY3LQLmQLfQcX0QkIpGCWV=s64",
      "userId": "05115090728237574619"
     },
     "user_tz": -330
    },
    "id": "EmQQLeOtb0qk",
    "outputId": "c4e079dd-0e9c-4d9e-ccc9-102147ba0127"
   },
   "outputs": [
    {
     "name": "stdout",
     "output_type": "stream",
     "text": [
      "uid_FE , 'TransactionAmt_uid_mean' , 'TransactionAmt_uid_std' , 'D4_uid_mean' , 'D4_uid_std' , 'D9_uid_mean' , 'D9_uid_std' , 'D10_uid_mean' , 'D10_uid_std' , 'D15_uid_mean' , 'D15_uid_std' , 'C1_uid_mean' , 'C2_uid_mean' , 'C4_uid_mean' , 'C5_uid_mean' , 'C6_uid_mean' , 'C7_uid_mean' , 'C8_uid_mean' , 'C9_uid_mean' , 'C10_uid_mean' , 'C11_uid_mean' , 'C12_uid_mean' , 'C13_uid_mean' , 'C14_uid_mean' , 'M1_uid_mean' , 'M2_uid_mean' , 'M3_uid_mean' , 'M4_uid_mean' , 'M5_uid_mean' , 'M6_uid_mean' , 'M7_uid_mean' , 'M8_uid_mean' , 'M9_uid_mean' , uid_P_emaildomain_ct, uid_dist1_ct, uid_DT_M_ct, uid_id_02_ct, uid_cents_ct, 'C14_uid_std' , uid_C13_ct, uid_V314_ct, uid_V127_ct, uid_V136_ct, uid_V309_ct, uid_V307_ct, uid_V320_ct, outsider15\n"
     ]
    }
   ],
   "source": [
    "# FREQUENCY ENCODE UID\n",
    "freq_encode(X_train,X_test,['uid'])\n",
    "# AGGREGATE \n",
    "encode_AG(['TransactionAmt','D4','D9','D10','D15'],['uid'],['mean','std'],fillna=True,usena=True)\n",
    "# AGGREGATE\n",
    "encode_AG(['C'+str(x) for x in range(1,15) if x!=3],['uid'],['mean'],X_train,X_test,fillna=True,usena=True)\n",
    "# AGGREGATE\n",
    "encode_AG(['M'+str(x) for x in range(1,10)],['uid'],['mean'],fillna=True,usena=True)\n",
    "# AGGREGATE\n",
    "AG_enc_nunq(['P_emaildomain','dist1','DT_M','id_02','cents'], ['uid'], train_df=X_train, test_df=X_test)\n",
    "# AGGREGATE\n",
    "encode_AG(['C14'],['uid'],['std'],X_train,X_test,fillna=True,usena=True)\n",
    "# AGGREGATE \n",
    "AG_enc_nunq(['C13','V314'], ['uid'], train_df=X_train, test_df=X_test)\n",
    "# AGGREATE \n",
    "AG_enc_nunq(['V127','V136','V309','V307','V320'], ['uid'], train_df=X_train, test_df=X_test)\n",
    "# NEW FEATURE\n",
    "X_train['outsider15'] = (np.abs(X_train.D1-X_train.D15)>3).astype('int8')\n",
    "X_test['outsider15'] = (np.abs(X_test.D1-X_test.D15)>3).astype('int8')\n",
    "print('outsider15')"
   ]
  },
  {
   "cell_type": "code",
   "execution_count": 0,
   "metadata": {
    "colab": {},
    "colab_type": "code",
    "id": "wVZ8339knvgC"
   },
   "outputs": [],
   "source": [
    "drop_variables = rejected_variables + ['DT_M', 'TransactionDT', 'day', 'uid'] #removing this extra variables uid ,day etc to avoid overfitting"
   ]
  },
  {
   "cell_type": "code",
   "execution_count": 0,
   "metadata": {
    "colab": {},
    "colab_type": "code",
    "id": "wqCUWZtKrpx_"
   },
   "outputs": [],
   "source": [
    "cols = list( X_train.columns )\n",
    "for c in drop_variables:\n",
    "    cols.remove(c)"
   ]
  },
  {
   "cell_type": "markdown",
   "metadata": {
    "colab_type": "text",
    "id": "K6sa-aP4QIGb"
   },
   "source": [
    "# Modeling"
   ]
  },
  {
   "cell_type": "markdown",
   "metadata": {
    "colab_type": "text",
    "id": "skXvBHdmeexa"
   },
   "source": [
    "## Logestic Regression"
   ]
  },
  {
   "cell_type": "markdown",
   "metadata": {
    "colab_type": "text",
    "id": "cwrdvyG-fFtY"
   },
   "source": [
    "### With Class Balancing"
   ]
  },
  {
   "cell_type": "code",
   "execution_count": 0,
   "metadata": {
    "colab": {
     "base_uri": "https://localhost:8080/",
     "height": 118
    },
    "colab_type": "code",
    "executionInfo": {
     "elapsed": 1676,
     "status": "ok",
     "timestamp": 1573964731850,
     "user": {
      "displayName": "yAstar",
      "photoUrl": "https://lh3.googleusercontent.com/a-/AAuE7mAQMTWITMWULQCIbgtY3LQLmQLfQcX0QkIpGCWV=s64",
      "userId": "05115090728237574619"
     },
     "user_tz": -330
    },
    "id": "qhK_8rUEhXXi",
    "outputId": "78104312-b413-4ff3-ff55-b2d2e0f3e000"
   },
   "outputs": [
    {
     "name": "stdout",
     "output_type": "stream",
     "text": [
      "LogisticRegression(C=100000, class_weight='balanced', dual=False,\n",
      "                   fit_intercept=True, intercept_scaling=1, l1_ratio=None,\n",
      "                   max_iter=100, multi_class='warn', n_jobs=None, penalty='l2',\n",
      "                   random_state=None, solver='warn', tol=0.0001, verbose=0,\n",
      "                   warm_start=False)\n",
      "0.812414641880185\n"
     ]
    }
   ],
   "source": [
    "tuned_parameters = [{'C': [10**-5,10**-4, 10**-2, 10**0, 10**2, 10**4,10**5]}] #values of hyperparameter for tunning\n",
    "gkf=GroupKFold(n_splits=5)\n",
    "clf = LogisticRegression(penalty='l2',class_weight='balanced') #define classifier\n",
    "model = GridSearchCV(clf, tuned_parameters, scoring = 'roc_auc', cv=gkf) #cross validation\n",
    "model.fit(X_train[cols].iloc[:442905], y_train[:442905], groups=X_train.iloc[:442905]['DT_M'])\n",
    "\n",
    "print(model.best_estimator_)\n",
    "print(model.score(X_train[cols].iloc[442905:], y_train[442905:]))"
   ]
  },
  {
   "cell_type": "code",
   "execution_count": 0,
   "metadata": {
    "colab": {
     "base_uri": "https://localhost:8080/",
     "height": 329
    },
    "colab_type": "code",
    "executionInfo": {
     "elapsed": 13178,
     "status": "ok",
     "timestamp": 1573964393561,
     "user": {
      "displayName": "yAstar",
      "photoUrl": "https://lh3.googleusercontent.com/a-/AAuE7mAQMTWITMWULQCIbgtY3LQLmQLfQcX0QkIpGCWV=s64",
      "userId": "05115090728237574619"
     },
     "user_tz": -330
    },
    "id": "4jB6Fqh89JY_",
    "outputId": "48d40c44-e8b2-4da7-9681-2fd85c4d1fb1"
   },
   "outputs": [
    {
     "data": {
      "image/png": "[encoded data removed]",
      "text/plain": [
       "<Figure size 432x288 with 1 Axes>"
      ]
     },
     "metadata": {
      "tags": []
     },
     "output_type": "display_data"
    },
    {
     "name": "stdout",
     "output_type": "stream",
     "text": [
      "[[110864  31671]\n",
      " [  1470   3630]]\n"
     ]
    }
   ],
   "source": [
    "plt.figure()\n",
    "lw = 2\n",
    "\n",
    "#ROC_AUC curve\n",
    "# plot for test\n",
    "\n",
    "pred = model.predict(X_train[cols].iloc[442905:])\n",
    "fpr, tpr, thresholds = roc_curve(pred, y_train[442905:])\n",
    "roc_auc = auc(fpr,tpr)\n",
    "plt.plot(fpr, tpr, color='darkorange',\n",
    "         lw=lw, label='ROC curve (area = %0.2f)' % roc_auc)\n",
    "\n",
    "#plot for train\n",
    "\n",
    "pred = model.predict(X_train[cols].iloc[:442905])\n",
    "fpr, tpr, thresholds = roc_curve(pred, y_train[:442905])\n",
    "roc_auc = auc(fpr,tpr)\n",
    "plt.plot(fpr, tpr, color='skyblue',\n",
    "         lw=lw, label='ROC curve (area = %0.2f)' % roc_auc)\n",
    "\n",
    "plt.plot([0, 1], [0, 1], color='navy', lw=lw, linestyle='--')\n",
    "plt.xlim([0.0, 1.0])\n",
    "plt.ylim([0.0, 1.05])\n",
    "plt.xlabel('False Positive Rate')\n",
    "plt.ylabel('True Positive Rate')\n",
    "plt.title('Receiver operating characteristic example')\n",
    "plt.legend(loc=\"lower right\")\n",
    "plt.show()\n",
    "\n",
    "#confusion_matrix\n",
    "pred = model.predict(X_train[cols].iloc[442905:])\n",
    "CM = confusion_matrix(y_train[442905:], pred)\n",
    "print(CM)"
   ]
  },
  {
   "cell_type": "markdown",
   "metadata": {
    "colab_type": "text",
    "id": "L5OUHIbRe5dV"
   },
   "source": [
    "### Without Class Balancing"
   ]
  },
  {
   "cell_type": "code",
   "execution_count": 0,
   "metadata": {
    "colab": {
     "base_uri": "https://localhost:8080/",
     "height": 126
    },
    "colab_type": "code",
    "executionInfo": {
     "elapsed": 2062361,
     "status": "ok",
     "timestamp": 1572853646163,
     "user": {
      "displayName": "yAstar",
      "photoUrl": "https://lh3.googleusercontent.com/a-/AAuE7mAQMTWITMWULQCIbgtY3LQLmQLfQcX0QkIpGCWV=s64",
      "userId": "05115090728237574619"
     },
     "user_tz": -330
    },
    "id": "kzWblWMKQL_1",
    "outputId": "0dcc27ed-768f-40ea-a132-4f81a41435e1"
   },
   "outputs": [
    {
     "name": "stdout",
     "output_type": "stream",
     "text": [
      "LogisticRegression(C=100000, class_weight=None, dual=False, fit_intercept=True,\n",
      "                   intercept_scaling=1, l1_ratio=None, max_iter=100,\n",
      "                   multi_class='warn', n_jobs=None, penalty='l2',\n",
      "                   random_state=None, solver='warn', tol=0.0001, verbose=0,\n",
      "                   warm_start=False)\n",
      "0.7666879897957606\n"
     ]
    }
   ],
   "source": [
    "tuned_parameters = [{'C': [10**-5,10**-4, 10**-2, 10**0, 10**2, 10**4,10**5]}] #values of hyperparameter for tunning\n",
    "gkf=GroupKFold(n_splits=5)\n",
    "clf = LogisticRegression(penalty='l2') #define classifier\n",
    "model = GridSearchCV(clf, tuned_parameters, scoring = 'roc_auc', cv=gkf) #cross validation\n",
    "model.fit(X_train[cols].iloc[:442905], y_train[:442905], groups=X_train.iloc[:442905]['DT_M'])\n",
    "\n",
    "print(model.best_estimator_)\n",
    "print(model.score(X_train[cols].iloc[442905:], y_train[442905:]))"
   ]
  },
  {
   "cell_type": "code",
   "execution_count": 0,
   "metadata": {
    "colab": {
     "base_uri": "https://localhost:8080/",
     "height": 329
    },
    "colab_type": "code",
    "executionInfo": {
     "elapsed": 12830,
     "status": "ok",
     "timestamp": 1573965495426,
     "user": {
      "displayName": "yAstar",
      "photoUrl": "https://lh3.googleusercontent.com/a-/AAuE7mAQMTWITMWULQCIbgtY3LQLmQLfQcX0QkIpGCWV=s64",
      "userId": "05115090728237574619"
     },
     "user_tz": -330
    },
    "id": "daU6us-vY2CQ",
    "outputId": "2986a1c8-2cbb-4fb0-b1ee-82c5b94da522"
   },
   "outputs": [
    {
     "data": {
      "image/png": "[encoded data removed]",
      "text/plain": [
       "<Figure size 432x288 with 1 Axes>"
      ]
     },
     "metadata": {
      "tags": []
     },
     "output_type": "display_data"
    },
    {
     "name": "stdout",
     "output_type": "stream",
     "text": [
      "[[142106    429]\n",
      " [  5003     97]]\n"
     ]
    }
   ],
   "source": [
    "plt.figure()\n",
    "lw = 2\n",
    "\n",
    "#ROC_AUC curve\n",
    "# plot for test\n",
    "\n",
    "pred = model.predict(X_train[cols].iloc[442905:])\n",
    "fpr, tpr, thresholds = roc_curve(pred, y_train[442905:])\n",
    "roc_auc = auc(fpr,tpr)\n",
    "plt.plot(fpr, tpr, color='darkorange',\n",
    "         lw=lw, label='ROC curve (area = %0.2f)' % roc_auc)\n",
    "\n",
    "#plot for train\n",
    "\n",
    "pred = model.predict(X_train[cols].iloc[:442905])\n",
    "fpr, tpr, thresholds = roc_curve(pred, y_train[:442905])\n",
    "roc_auc = auc(fpr,tpr)\n",
    "plt.plot(fpr, tpr, color='skyblue',\n",
    "         lw=lw, label='ROC curve (area = %0.2f)' % roc_auc)\n",
    "\n",
    "plt.plot([0, 1], [0, 1], color='navy', lw=lw, linestyle='--')\n",
    "plt.xlim([0.0, 1.0])\n",
    "plt.ylim([0.0, 1.05])\n",
    "plt.xlabel('False Positive Rate')\n",
    "plt.ylabel('True Positive Rate')\n",
    "plt.title('Receiver operating characteristic example')\n",
    "plt.legend(loc=\"lower right\")\n",
    "plt.show()\n",
    "\n",
    "#confusion_matrix\n",
    "pred = model.predict(X_train[cols].iloc[442905:])\n",
    "CM = confusion_matrix(y_train[442905:], pred)\n",
    "print(CM)"
   ]
  },
  {
   "cell_type": "markdown",
   "metadata": {
    "colab_type": "text",
    "id": "aekZXq2Kgw2p"
   },
   "source": [
    "## XGBOOST"
   ]
  },
  {
   "cell_type": "markdown",
   "metadata": {
    "colab_type": "text",
    "id": "-pFr0364gzf2"
   },
   "source": [
    "### With Class Balancing"
   ]
  },
  {
   "cell_type": "code",
   "execution_count": 124,
   "metadata": {
    "colab": {
     "base_uri": "https://localhost:8080/",
     "height": 151
    },
    "colab_type": "code",
    "executionInfo": {
     "elapsed": 1656,
     "status": "ok",
     "timestamp": 1574071113574,
     "user": {
      "displayName": "yAstar",
      "photoUrl": "https://lh3.googleusercontent.com/a-/AAuE7mAQMTWITMWULQCIbgtY3LQLmQLfQcX0QkIpGCWV=s64",
      "userId": "05115090728237574619"
     },
     "user_tz": -330
    },
    "id": "3Xqwn8pf4jJ8",
    "outputId": "77e74be1-6a6e-45bd-f9b2-f3441a3e559c"
   },
   "outputs": [
    {
     "name": "stdout",
     "output_type": "stream",
     "text": [
      "XGBClassifier(base_score=0.5, booster='gbtree', colsample_bylevel=1,\n",
      "              colsample_bynode=1, colsample_bytree=0.4, gamma=0,\n",
      "              learning_rate=0.02, max_delta_step=0, max_depth=9,\n",
      "              min_child_weight=1, missing=-1, n_estimators=5000, n_jobs=1,\n",
      "              nthread=None, objective='binary:logistic', random_state=0,\n",
      "              reg_alpha=0, reg_lambda=1, scale_pos_weight=5.25, seed=None,\n",
      "              silent=None, subsample=0.8, tree_method='gpu_hist', verbosity=1)\n",
      "0.9460101732906239\n"
     ]
    }
   ],
   "source": [
    "tuned_parameters = {'max_depth': [5,7,9,12],'n_estimators':[100,500,2000,5000]} #values of hyperparameter for tunning\n",
    "gkf=GroupKFold(n_splits=5)\n",
    "clf = xgb.XGBClassifier(learning_rate=0.02,\n",
    "                        subsample=0.8,\n",
    "                        colsample_bytree=0.4,\n",
    "                        scale_pos_weight = 5.25, #scale_pos_weight=sqrt(count(negative)/count(positive))\n",
    "                        missing =-1,\n",
    "                        tree_method='gpu_hist') #define classifier\n",
    "model = RandomizedSearchCV(clf, tuned_parameters, scoring = 'roc_auc', cv=gkf) #cross validation\n",
    "model.fit(X_train[cols].iloc[:442905], y_train[:442905], groups=X_train.iloc[:442905]['DT_M'])\n",
    "\n",
    "print(model.best_estimator_)\n",
    "print(model.score(X_train[cols].iloc[442905:], y_train[442905:]))"
   ]
  },
  {
   "cell_type": "code",
   "execution_count": 0,
   "metadata": {
    "colab": {
     "base_uri": "https://localhost:8080/",
     "height": 329
    },
    "colab_type": "code",
    "executionInfo": {
     "elapsed": 95873,
     "status": "ok",
     "timestamp": 1574066619135,
     "user": {
      "displayName": "yAstar",
      "photoUrl": "https://lh3.googleusercontent.com/a-/AAuE7mAQMTWITMWULQCIbgtY3LQLmQLfQcX0QkIpGCWV=s64",
      "userId": "05115090728237574619"
     },
     "user_tz": -330
    },
    "id": "n7iWH-yaSC4F",
    "outputId": "fccf9aa5-ee4e-44cb-ad08-0ebe01bcf790"
   },
   "outputs": [
    {
     "data": {
      "image/png": "[encoded data removed]",
      "text/plain": [
       "<Figure size 432x288 with 1 Axes>"
      ]
     },
     "metadata": {
      "tags": []
     },
     "output_type": "display_data"
    },
    {
     "name": "stdout",
     "output_type": "stream",
     "text": [
      "[[142242    293]\n",
      " [  2072   3028]]\n"
     ]
    }
   ],
   "source": [
    "plt.figure()\n",
    "lw = 2\n",
    "\n",
    "#ROC_AUC curve\n",
    "# plot for test\n",
    "\n",
    "pred = model.predict(X_train[cols].iloc[442905:])\n",
    "fpr, tpr, thresholds = roc_curve(pred, y_train[442905:])\n",
    "roc_auc = auc(fpr,tpr)\n",
    "plt.plot(fpr, tpr, color='darkorange',\n",
    "         lw=lw, label='ROC curve (area = %0.2f)' % roc_auc)\n",
    "\n",
    "#plot for train\n",
    "\n",
    "pred = model.predict(X_train[cols].iloc[:442905])\n",
    "fpr, tpr, thresholds = roc_curve(pred, y_train[:442905])\n",
    "roc_auc = auc(fpr,tpr)\n",
    "plt.plot(fpr, tpr, color='skyblue',\n",
    "         lw=lw, label='ROC curve (area = %0.2f)' % roc_auc)\n",
    "\n",
    "plt.plot([0, 1], [0, 1], color='navy', lw=lw, linestyle='--')\n",
    "plt.xlim([0.0, 1.0])\n",
    "plt.ylim([0.0, 1.05])\n",
    "plt.xlabel('False Positive Rate')\n",
    "plt.ylabel('True Positive Rate')\n",
    "plt.title('Receiver operating characteristic example')\n",
    "plt.legend(loc=\"lower right\")\n",
    "plt.show()\n",
    "\n",
    "#confusion_matrix\n",
    "pred = model.predict(X_train[cols].iloc[442905:])\n",
    "CM = confusion_matrix(y_train[442905:], pred)\n",
    "print(CM)"
   ]
  },
  {
   "cell_type": "markdown",
   "metadata": {
    "colab_type": "text",
    "id": "eRajMOyxhUxv"
   },
   "source": [
    "### Without Class Balancing"
   ]
  },
  {
   "cell_type": "code",
   "execution_count": 125,
   "metadata": {
    "colab": {
     "base_uri": "https://localhost:8080/",
     "height": 151
    },
    "colab_type": "code",
    "executionInfo": {
     "elapsed": 794,
     "status": "ok",
     "timestamp": 1574071180390,
     "user": {
      "displayName": "yAstar",
      "photoUrl": "https://lh3.googleusercontent.com/a-/AAuE7mAQMTWITMWULQCIbgtY3LQLmQLfQcX0QkIpGCWV=s64",
      "userId": "05115090728237574619"
     },
     "user_tz": -330
    },
    "id": "B4nwm_5582TM",
    "outputId": "ecec1769-5d55-4f67-dc8b-63545c3f6490"
   },
   "outputs": [
    {
     "name": "stdout",
     "output_type": "stream",
     "text": [
      "XGBClassifier(base_score=0.5, booster='gbtree', colsample_bylevel=1,\n",
      "              colsample_bynode=1, colsample_bytree=0.4, gamma=0,\n",
      "              learning_rate=0.02, max_delta_step=0, max_depth=12,\n",
      "              min_child_weight=1, missing=-1, n_estimators=5000, n_jobs=1,\n",
      "              nthread=None, objective='binary:logistic', random_state=0,\n",
      "              reg_alpha=0, reg_lambda=1, scale_pos_weight=1, seed=None,\n",
      "              silent=None, subsample=0.8, tree_method='gpu_hist', verbosity=1)\n",
      "0.9650921055506257\n"
     ]
    }
   ],
   "source": [
    "tuned_parameters = {'max_depth': [5,7,9,12],'n_estimators':[100,500,2000,5000]} #values of hyperparameter for tunning\n",
    "gkf=GroupKFold(n_splits=5)\n",
    "clf = xgb.XGBClassifier(learning_rate=0.02,\n",
    "                        subsample=0.8,\n",
    "                        colsample_bytree=0.4,\n",
    "                        missing =-1,\n",
    "                        tree_method='gpu_hist') #define classifier\n",
    "model = RandomizedSearchCV(clf, tuned_parameters, scoring = 'roc_auc', cv=gkf) #cross validation\n",
    "model.fit(X_train[cols].iloc[:442905], y_train[:442905], groups=X_train.iloc[:442905]['DT_M'])\n",
    "\n",
    "print(model.best_estimator_)\n",
    "print(model.score(X_train[cols].iloc[442905:], y_train[442905:]))"
   ]
  },
  {
   "cell_type": "code",
   "execution_count": 122,
   "metadata": {
    "colab": {
     "base_uri": "https://localhost:8080/",
     "height": 329
    },
    "colab_type": "code",
    "executionInfo": {
     "elapsed": 29345,
     "status": "ok",
     "timestamp": 1574070839818,
     "user": {
      "displayName": "yAstar",
      "photoUrl": "https://lh3.googleusercontent.com/a-/AAuE7mAQMTWITMWULQCIbgtY3LQLmQLfQcX0QkIpGCWV=s64",
      "userId": "05115090728237574619"
     },
     "user_tz": -330
    },
    "id": "Zx6OKqGBwo1C",
    "outputId": "ff90b36a-d1ac-4638-e885-a9fd5f2d528e"
   },
   "outputs": [
    {
     "data": {
      "image/png": "[encoded data removed]",
      "text/plain": [
       "<Figure size 432x288 with 1 Axes>"
      ]
     },
     "metadata": {
      "tags": []
     },
     "output_type": "display_data"
    },
    {
     "name": "stdout",
     "output_type": "stream",
     "text": [
      "[[142415    120]\n",
      " [  1241   3859]]\n"
     ]
    }
   ],
   "source": [
    "plt.figure()\n",
    "lw = 2\n",
    "\n",
    "#ROC_AUC curve\n",
    "# plot for test\n",
    "\n",
    "pred = model.predict(X_train[cols].iloc[442905:])\n",
    "fpr, tpr, thresholds = roc_curve(pred, y_train[442905:])\n",
    "roc_auc = auc(fpr,tpr)\n",
    "plt.plot(fpr, tpr, color='darkorange',\n",
    "         lw=lw, label='ROC curve (area = %0.2f)' % roc_auc)\n",
    "\n",
    "#plot for train\n",
    "\n",
    "pred = model.predict(X_train[cols].iloc[:442905])\n",
    "fpr, tpr, thresholds = roc_curve(pred, y_train[:442905])\n",
    "roc_auc = auc(fpr,tpr)\n",
    "plt.plot(fpr, tpr, color='skyblue',\n",
    "         lw=lw, label='ROC curve (area = %0.2f)' % roc_auc)\n",
    "\n",
    "plt.plot([0, 1], [0, 1], color='navy', lw=lw, linestyle='--')\n",
    "plt.xlim([0.0, 1.0])\n",
    "plt.ylim([0.0, 1.05])\n",
    "plt.xlabel('False Positive Rate')\n",
    "plt.ylabel('True Positive Rate')\n",
    "plt.title('Receiver operating characteristic example')\n",
    "plt.legend(loc=\"lower right\")\n",
    "plt.show()\n",
    "\n",
    "#confusion_matrix\n",
    "pred = model.predict(X_train[cols].iloc[442905:])\n",
    "CM = confusion_matrix(y_train[442905:], pred)\n",
    "print(CM)"
   ]
  },
  {
   "cell_type": "code",
   "execution_count": 0,
   "metadata": {
    "colab": {},
    "colab_type": "code",
    "id": "xoJvHMsl07NG"
   },
   "outputs": [],
   "source": [
    "preds = model.predict_proba(X_test[cols])[:,1]\n",
    "sample_submission = pd.read_csv('/content/drive/My Drive/IEEE_F/sample_submission.csv')\n",
    "sample_submission.isFraud = preds\n",
    "sample_submission.to_csv('/content/drive/My Drive/IEEE_F/xgb_my_submission00.csv',index=False)"
   ]
  },
  {
   "cell_type": "markdown",
   "metadata": {
    "colab_type": "text",
    "id": "ZXrsgXlijAqA"
   },
   "source": [
    "# Conclusion\n",
    "* our best model is xgboost without class balancing\n",
    "\n",
    "## Steps:\n",
    "* Load Data.\n",
    "* Perform EDA.\n",
    "* Perform Feature engineering.\n",
    "* Prepare Data for models.\n",
    "* Try different models."
   ]
  },
  {
   "cell_type": "code",
   "execution_count": 126,
   "metadata": {
    "colab": {
     "base_uri": "https://localhost:8080/",
     "height": 168
    },
    "colab_type": "code",
    "executionInfo": {
     "elapsed": 1675,
     "status": "ok",
     "timestamp": 1574072037306,
     "user": {
      "displayName": "yAstar",
      "photoUrl": "https://lh3.googleusercontent.com/a-/AAuE7mAQMTWITMWULQCIbgtY3LQLmQLfQcX0QkIpGCWV=s64",
      "userId": "05115090728237574619"
     },
     "user_tz": -330
    },
    "id": "6T0U_Mukj3G9",
    "outputId": "e7ddad57-9d2f-4f8b-afdf-8cf80c861b7c"
   },
   "outputs": [
    {
     "name": "stdout",
     "output_type": "stream",
     "text": [
      "All Model Comparison\n",
      "+--------------+-------+\n",
      "|    Models    | Score |\n",
      "+--------------+-------+\n",
      "|      LR      | 0.766 |\n",
      "|   LR + CB    | 0.812 |\n",
      "|   XGBOOST    | 0.965 |\n",
      "| XGBOOST + CB | 0.946 |\n",
      "+--------------+-------+\n"
     ]
    }
   ],
   "source": [
    "from prettytable import PrettyTable\n",
    "\n",
    "x = PrettyTable()\n",
    "x.field_names = [\"Models\", \"Score\"]\n",
    "x.add_row([\"LR\", 0.766])\n",
    "x.add_row([\"LR + CB\", 0.812])\n",
    "x.add_row([\"XGBOOST\", 0.965])\n",
    "x.add_row([\"XGBOOST + CB\", 0.946])\n",
    "print('All Model Comparison')\n",
    "print(x)"
   ]
  }
 ],
 "metadata": {
  "accelerator": "GPU",
  "colab": {
   "collapsed_sections": [],
   "machine_shape": "hm",
   "name": "Copy of ieee_new.ipynb",
   "provenance": [
    {
     "file_id": "1xvOmOH7vfdenGe7IbIxvAMO2fauhUVDr",
     "timestamp": 1573916171305
    }
   ]
  },
  "kernelspec": {
   "display_name": "Python 3",
   "language": "python",
   "name": "python3"
  },
  "language_info": {
   "codemirror_mode": {
    "name": "ipython",
    "version": 3
   },
   "file_extension": ".py",
   "mimetype": "text/x-python",
   "name": "python",
   "nbconvert_exporter": "python",
   "pygments_lexer": "ipython3",
   "version": "3.6.4"
  }
 },
 "nbformat": 4,
 "nbformat_minor": 1
}
